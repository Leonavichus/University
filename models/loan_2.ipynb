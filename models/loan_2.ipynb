{
 "cells": [
  {
   "cell_type": "code",
   "execution_count": null,
   "metadata": {
    "id": "uzZqykuka5Cd"
   },
   "outputs": [],
   "source": [
    "import torch\n",
    "import torch.nn as nn\n",
    "import torch.optim as optim\n",
    "import pandas as pd\n",
    "import numpy as np\n",
    "import seaborn as sns\n",
    "from sklearn.model_selection import train_test_split, validation_curve, learning_curve\n",
    "from sklearn.preprocessing import StandardScaler, LabelEncoder\n",
    "import shap\n",
    "from sklearn.metrics import confusion_matrix, precision_recall_curve, roc_auc_score, classification_report, confusion_matrix, roc_curve, auc, RocCurveDisplay\n",
    "import matplotlib.pyplot as plt"
   ]
  },
  {
   "cell_type": "code",
   "execution_count": null,
   "metadata": {
    "id": "CTNzMHnga8fn"
   },
   "outputs": [],
   "source": [
    "# Загрузка данных из CSV файла\n",
    "data = pd.read_csv('loan_approval_dataset.csv')"
   ]
  },
  {
   "cell_type": "code",
   "execution_count": null,
   "metadata": {
    "colab": {
     "base_uri": "https://localhost:8080/",
     "height": 630
    },
    "id": "f3IHp213r7F2",
    "outputId": "ebb43f85-c43e-4b14-ba16-a5739269f6a8"
   },
   "outputs": [],
   "source": [
    "# Вывод информации о данных и первых пяти строках для проверки\n",
    "data.info()\n",
    "data.head()"
   ]
  },
  {
   "cell_type": "code",
   "execution_count": null,
   "metadata": {
    "id": "Lmc8u9R5tJmu"
   },
   "outputs": [],
   "source": [
    "# Удаление пробелов и приведение к нижнему регистру для категориальных переменных\n",
    "data['education'] = data['education'].str.strip().str.lower()\n",
    "data['self_employed'] = data['self_employed'].str.strip().str.lower()\n",
    "data['loan_status'] = data['loan_status'].str.strip().str.lower()"
   ]
  },
  {
   "cell_type": "code",
   "execution_count": null,
   "metadata": {
    "id": "Nvjd20jzuFHx"
   },
   "outputs": [],
   "source": [
    "# Преобразование категориальных переменных в числовые значения\n",
    "data['education'] = data['education'].map({'graduate': 1, 'not graduate': 0})\n",
    "data['self_employed'] = data['self_employed'].map({'yes': 1, 'no': 0})\n",
    "data['loan_status'] = data['loan_status'].map({'approved': 1, 'rejected': 0})\n",
    "\n",
    "# Отделение целевой переменной\n",
    "X = data.drop(['loan_id', 'loan_status'], axis=1)\n",
    "y = data['loan_status']\n",
    "\n",
    "# Стандартизация данных\n",
    "scaler = StandardScaler()\n",
    "X = pd.DataFrame(scaler.fit_transform(X), columns=X.columns)\n",
    "\n",
    "# Разделение на тренировочные и тестовые данные\n",
    "X_train, X_test, y_train, y_test = train_test_split(X, y, test_size=0.2, random_state=42, stratify=y)\n",
    "\n",
    "# Преобразование в тензоры PyTorch\n",
    "X_train_tensor = torch.tensor(X_train.values, dtype=torch.float32)\n",
    "X_test_tensor = torch.tensor(X_test.values, dtype=torch.float32)\n",
    "y_train_tensor = torch.tensor(y_train.values, dtype=torch.float32).unsqueeze(1)\n",
    "y_test_tensor = torch.tensor(y_test.values, dtype=torch.float32).unsqueeze(1)"
   ]
  },
  {
   "cell_type": "code",
   "execution_count": null,
   "metadata": {
    "id": "eStUYDxfuPFY"
   },
   "outputs": [],
   "source": [
    "# Определение архитектуры нейронной сети\n",
    "class CreditApprovalNet(nn.Module):\n",
    "    def __init__(self):\n",
    "        super(CreditApprovalNet, self).__init__()\n",
    "        self.fc1 = nn.Linear(11, 8)  # Входной слой с 11 признаками\n",
    "        self.fc2 = nn.Linear(8, 16)  # Скрытый слой с 16 нейронами\n",
    "        self.fc3 = nn.Linear(16, 1)  # Выходной слой с 1 нейроном\n",
    "        self.relu = nn.ReLU()  # Функция активации ReLU\n",
    "        self.sigmoid = nn.Sigmoid()  # Функция активации Sigmoid для выходного слоя\n",
    "\n",
    "    def forward(self, x):\n",
    "        x = self.relu(self.fc1(x))\n",
    "        x = self.relu(self.fc2(x))\n",
    "        x = self.sigmoid(self.fc3(x))\n",
    "        return x"
   ]
  },
  {
   "cell_type": "code",
   "execution_count": null,
   "metadata": {
    "colab": {
     "base_uri": "https://localhost:8080/"
    },
    "id": "i29fBihhuUB0",
    "outputId": "327ac11a-413e-4225-aa0d-586dec61d525"
   },
   "outputs": [],
   "source": [
    "# Инициализация модели, функции потерь и оптимизатора\n",
    "model = CreditApprovalNet()\n",
    "criterion = nn.BCELoss()  # Binary Cross-Entropy Loss\n",
    "optimizer = optim.Adam(model.parameters(), lr=0.001)\n",
    "\n",
    "# === Обучение модели ===\n",
    "num_epochs = 50\n",
    "batch_size = 16\n",
    "train_loader = torch.utils.data.DataLoader(torch.utils.data.TensorDataset(X_train_tensor, y_train_tensor), batch_size=batch_size, shuffle=True)\n",
    "\n",
    "for epoch in range(num_epochs):\n",
    "    model.train()\n",
    "    for batch_X, batch_y in train_loader:\n",
    "        # Обнуление градиентов\n",
    "        optimizer.zero_grad()\n",
    "\n",
    "        # Прямой проход\n",
    "        outputs = model(batch_X)\n",
    "\n",
    "        # Вычисление функции потерь\n",
    "        loss = criterion(outputs, batch_y)\n",
    "\n",
    "        # Обратное распространение\n",
    "        loss.backward()\n",
    "\n",
    "        # Обновление параметров\n",
    "        optimizer.step()\n",
    "\n",
    "    print(f\"Epoch [{epoch + 1}/{num_epochs}], Loss: {loss.item():.4f}\")"
   ]
  },
  {
   "cell_type": "code",
   "execution_count": null,
   "metadata": {
    "colab": {
     "base_uri": "https://localhost:8080/"
    },
    "id": "ICsTpHaMuevo",
    "outputId": "5ee6e4fa-4f11-424d-b5a0-0c63e96bc034"
   },
   "outputs": [],
   "source": [
    "# Прогнозы на тестовых данных\n",
    "model.eval()\n",
    "with torch.no_grad():\n",
    "    y_pred_prob = model(X_test_tensor).numpy()\n",
    "    y_pred = (y_pred_prob >= 0.5).astype(int)\n",
    "\n",
    "# Метрики\n",
    "print(\"Classification Report:\")\n",
    "print(classification_report(y_test, y_pred))\n",
    "\n",
    "print(\"Confusion Matrix:\")\n",
    "print(confusion_matrix(y_test, y_pred))"
   ]
  },
  {
   "cell_type": "code",
   "execution_count": null,
   "metadata": {
    "colab": {
     "base_uri": "https://localhost:8080/",
     "height": 564
    },
    "id": "ysWB8LWEulm_",
    "outputId": "e795da85-15bc-44f5-c1a7-fd4949315c6b"
   },
   "outputs": [],
   "source": [
    "# ROC-кривая\n",
    "fpr, tpr, _ = roc_curve(y_test, y_pred_prob)\n",
    "roc_auc = auc(fpr, tpr)\n",
    "plt.figure(figsize=(8, 6))\n",
    "plt.plot(fpr, tpr, label=f'ROC Curve (AUC = {roc_auc:.2f})')\n",
    "plt.plot([0, 1], [0, 1], 'r--')\n",
    "plt.title('ROC Curve')\n",
    "plt.xlabel('False Positive Rate')\n",
    "plt.ylabel('True Positive Rate')\n",
    "plt.legend()\n",
    "plt.show()\n"
   ]
  },
  {
   "cell_type": "code",
   "execution_count": null,
   "metadata": {
    "colab": {
     "base_uri": "https://localhost:8080/",
     "height": 487
    },
    "id": "HetukZQrwQS-",
    "outputId": "a609c321-44a0-43ed-9dca-4ace21853d3f"
   },
   "outputs": [],
   "source": [
    "# Матрица ошибок\n",
    "cm = confusion_matrix(y_test, y_pred)\n",
    "plt.figure(figsize=(6, 5))\n",
    "plt.title(\"Confusion Matrix\")\n",
    "sns.heatmap(cm, annot=True, fmt=\"d\", cmap='Blues', xticklabels=['Rejected', 'Approved'], yticklabels=['Rejected', 'Approved'])\n",
    "plt.xlabel('Predicted label')\n",
    "plt.ylabel('True label')\n",
    "plt.show()"
   ]
  },
  {
   "cell_type": "code",
   "execution_count": null,
   "metadata": {
    "colab": {
     "base_uri": "https://localhost:8080/",
     "height": 564
    },
    "id": "1_mff9sFxIR6",
    "outputId": "a0dfe5ec-9a37-4210-decd-f901ee00e25a"
   },
   "outputs": [],
   "source": [
    "# Precision-Recall Curve\n",
    "precision, recall, _ = precision_recall_curve(y_test, y_pred_prob)\n",
    "plt.figure(figsize=(8, 6))\n",
    "plt.plot(recall, precision, marker='.')\n",
    "plt.xlabel('Recall')\n",
    "plt.ylabel('Precision')\n",
    "plt.title('Precision-Recall Curve')\n",
    "plt.grid()\n",
    "plt.show()"
   ]
  },
  {
   "cell_type": "code",
   "execution_count": null,
   "metadata": {
    "colab": {
     "base_uri": "https://localhost:8080/",
     "height": 564
    },
    "id": "mAdGsY0exL59",
    "outputId": "46808430-4a24-4a32-c495-6c838bbc0924"
   },
   "outputs": [],
   "source": [
    "# Cumulative Gains Chart\n",
    "sorted_indices = np.argsort(-y_pred_prob.flatten())\n",
    "sorted_y_test = y_test.values[sorted_indices]\n",
    "cumulative_positive = np.cumsum(sorted_y_test)\n",
    "\n",
    "plt.figure(figsize=(8, 6))\n",
    "plt.plot(np.arange(len(cumulative_positive)) / len(cumulative_positive),\n",
    "         cumulative_positive / cumulative_positive[-1], label='Model', color='blue')\n",
    "plt.plot([0, 1], [0, 1], linestyle='--', label='Random', color='red')\n",
    "plt.xlabel('Percentage of Samples')\n",
    "plt.ylabel('Percentage of Positives')\n",
    "plt.title('Cumulative Gains Chart')\n",
    "plt.legend()\n",
    "plt.grid()\n",
    "plt.show()"
   ]
  },
  {
   "cell_type": "code",
   "execution_count": null,
   "metadata": {
    "colab": {
     "base_uri": "https://localhost:8080/",
     "height": 564
    },
    "id": "p-XCrqOkxiVV",
    "outputId": "99df28d0-a814-41ef-fc3a-01c636e9daaa"
   },
   "outputs": [],
   "source": [
    "# Distribution of Predicted Probabilities\n",
    "plt.figure(figsize=(8, 6))\n",
    "plt.hist(y_pred_prob[y_test.values == 1], bins=20, alpha=0.7, label='Approved', color='green')\n",
    "plt.hist(y_pred_prob[y_test.values == 0], bins=20, alpha=0.7, label='Rejected', color='red')\n",
    "plt.xlabel('Predicted Probability')\n",
    "plt.ylabel('Frequency')\n",
    "plt.title('Distribution of Predicted Probabilities')\n",
    "plt.legend()\n",
    "plt.show()"
   ]
  },
  {
   "cell_type": "code",
   "execution_count": null,
   "metadata": {
    "id": "bAgaxDjUun08"
   },
   "outputs": [],
   "source": [
    "# Сохранение модели\n",
    "torch.save(model.state_dict(), 'credit_approval_net.pth')"
   ]
  },
  {
   "cell_type": "code",
   "execution_count": null,
   "metadata": {
    "colab": {
     "base_uri": "https://localhost:8080/"
    },
    "id": "3ShxMEEou3ID",
    "outputId": "2bd1a6de-ea65-4305-e5d3-46e9eef5a58d"
   },
   "outputs": [],
   "source": [
    "# Загрузка модели и предсказание на новых данных\n",
    "model = CreditApprovalNet()\n",
    "model.load_state_dict(torch.load('credit_approval_net.pth'))\n",
    "model.eval()"
   ]
  },
  {
   "cell_type": "code",
   "execution_count": null,
   "metadata": {
    "colab": {
     "base_uri": "https://localhost:8080/"
    },
    "id": "-B1TbW1Eu7FT",
    "outputId": "ee31f298-f728-4a38-8a3d-6dc545a8f139"
   },
   "outputs": [],
   "source": [
    "# Пример пользовательских данных\n",
    "custom_data = {\n",
    "    'no_of_dependents': [3],\n",
    "    'education': [1],\n",
    "    'self_employed': [0],\n",
    "    'income_annum': [7000000],\n",
    "    'loan_amount': [20000000],\n",
    "    'loan_term': [15],\n",
    "    'cibil_score': [750],\n",
    "    'residential_assets_value': [5000000],\n",
    "    'commercial_assets_value': [3000000],\n",
    "    'luxury_assets_value': [15000000],\n",
    "    'bank_asset_value': [8000000]\n",
    "}\n",
    "\n",
    "custom_data_df = pd.DataFrame(custom_data)\n",
    "custom_data_scaled = scaler.transform(custom_data_df)\n",
    "custom_data_tensor = torch.tensor(custom_data_scaled, dtype=torch.float32)\n",
    "\n",
    "# Предсказание\n",
    "with torch.no_grad():\n",
    "    custom_prediction_prob = model(custom_data_tensor).item()\n",
    "    custom_prediction = 1 if custom_prediction_prob >= 0.5 else 0\n",
    "\n",
    "status = 'Одобрено' if custom_prediction == 1 else 'Отклонено'\n",
    "print(f\"Результат предсказания для пользовательских данных: {status}\")\n",
    "print(f\"Вероятность: {custom_prediction_prob:.2f} для одобрения\")"
   ]
  }
 ],
 "metadata": {
  "colab": {
   "provenance": []
  },
  "kernelspec": {
   "display_name": "Python 3 (ipykernel)",
   "language": "python",
   "name": "python3"
  },
  "language_info": {
   "codemirror_mode": {
    "name": "ipython",
    "version": 3
   },
   "file_extension": ".py",
   "mimetype": "text/x-python",
   "name": "python",
   "nbconvert_exporter": "python",
   "pygments_lexer": "ipython3",
   "version": "3.12.7"
  }
 },
 "nbformat": 4,
 "nbformat_minor": 4
}
