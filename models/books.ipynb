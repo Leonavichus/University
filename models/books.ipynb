{
 "cells": [
  {
   "cell_type": "code",
   "execution_count": null,
   "metadata": {
    "id": "yOJoXtCr31nG"
   },
   "outputs": [],
   "source": [
    "import pandas as pd\n",
    "from sklearn.feature_extraction.text import TfidfVectorizer\n",
    "from sklearn.metrics.pairwise import cosine_similarity"
   ]
  },
  {
   "cell_type": "code",
   "execution_count": null,
   "metadata": {
    "id": "zXMvLZxX4TF0"
   },
   "outputs": [],
   "source": [
    "# Загрузка данных\n",
    "df = pd.read_csv(\"BooksDataset.csv\", nrows=1000)\n",
    "df.fillna(\"\", inplace=True)"
   ]
  },
  {
   "cell_type": "code",
   "execution_count": null,
   "metadata": {
    "colab": {
     "base_uri": "https://localhost:8080/",
     "height": 464
    },
    "id": "LR90gaV24X6X",
    "outputId": "3d11955c-ad68-4fac-e31e-a595b5884968"
   },
   "outputs": [],
   "source": [
    "df.info()\n",
    "df.head()"
   ]
  },
  {
   "cell_type": "code",
   "execution_count": null,
   "metadata": {
    "id": "NBMLnAtC_IdL"
   },
   "outputs": [],
   "source": [
    "# Объединяем текстовые поля для векторизации\n",
    "df['combined'] = df['Title'] + \" \" + df['Authors'] + \" \" + df['Description'] + \" \" + df['Category']\n",
    "\n",
    "# Векторизация текста\n",
    "vectorizer = TfidfVectorizer()\n",
    "tfidf_matrix = vectorizer.fit_transform(df['combined'])\n",
    "\n",
    "# Вычисляем косинусное сходство\n",
    "cosine_sim = cosine_similarity(tfidf_matrix, tfidf_matrix)"
   ]
  },
  {
   "cell_type": "code",
   "execution_count": null,
   "metadata": {
    "id": "BDZJQwdX_LqW"
   },
   "outputs": [],
   "source": [
    "# Функция для получения рекомендаций\n",
    "def recommend_books(book_title, num_recommendations=5):\n",
    "    # Получаем индекс книги\n",
    "    idx = df[df['Title'] == book_title].index[0]\n",
    "\n",
    "    # Получаем пары (индекс, сходство)\n",
    "    sim_scores = list(enumerate(cosine_sim[idx]))\n",
    "\n",
    "    # Сортируем по сходству\n",
    "    sim_scores = sorted(sim_scores, key=lambda x: x[1], reverse=True)\n",
    "\n",
    "    # Получаем индексы книг\n",
    "    book_indices = [i[0] for i in sim_scores[1:num_recommendations + 1]]\n",
    "\n",
    "    # Возвращаем названия книг\n",
    "    return df['Title'].iloc[book_indices]"
   ]
  },
  {
   "cell_type": "code",
   "execution_count": null,
   "metadata": {
    "colab": {
     "base_uri": "https://localhost:8080/"
    },
    "id": "oXz-TsO3Gr-H",
    "outputId": "efd603db-7cee-4f17-a8ef-61e51956da79"
   },
   "outputs": [],
   "source": [
    "# Пример использования\n",
    "book_title = \"Goat Brothers\"\n",
    "recommended_books = recommend_books(book_title)\n",
    "print(f\"Рекомендованные книги для '{book_title}':\")\n",
    "print(recommended_books.tolist())"
   ]
  },
  {
   "cell_type": "markdown",
   "metadata": {
    "id": "I0ROEhLhG8fJ"
   },
   "source": [
    "Как это работает:\n",
    "\n",
    "1. Создание DataFrame: Мы создаем DataFrame из данных о книгах.\n",
    "2. Объединение текстовых полей: Мы объединяем заголовок, авторов, описание и категорию в одно поле для векторизации.\n",
    "3. TF-IDF векторизация: Мы используем TfidfVectorizer для преобразования текста в числовые векторы.\n",
    "4. Косинусное сходство: Мы вычисляем косинусное сходство между всеми книгами.\n",
    "5. Функция recommend_books принимает название книги и возвращает список похожих книг на основе вычисленного сходства. В примере мы вызываем эту функцию для книги \"Goat Brothers\" и выводим рекомендованные книги.\n"
   ]
  }
 ],
 "metadata": {
  "colab": {
   "provenance": []
  },
  "kernelspec": {
   "display_name": "Python 3 (ipykernel)",
   "language": "python",
   "name": "python3"
  },
  "language_info": {
   "codemirror_mode": {
    "name": "ipython",
    "version": 3
   },
   "file_extension": ".py",
   "mimetype": "text/x-python",
   "name": "python",
   "nbconvert_exporter": "python",
   "pygments_lexer": "ipython3",
   "version": "3.12.7"
  }
 },
 "nbformat": 4,
 "nbformat_minor": 4
}
