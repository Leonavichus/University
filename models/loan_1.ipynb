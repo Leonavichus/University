{
 "cells": [
  {
   "cell_type": "code",
   "execution_count": null,
   "metadata": {
    "id": "W5hThIZEGshi"
   },
   "outputs": [],
   "source": [
    "import pandas as pd\n",
    "import numpy as np\n",
    "from sklearn.model_selection import train_test_split, learning_curve, validation_curve\n",
    "from sklearn.ensemble import GradientBoostingClassifier\n",
    "from sklearn.metrics import roc_curve, precision_recall_curve, classification_report, confusion_matrix, roc_curve, auc\n",
    "import matplotlib.pyplot as plt\n",
    "import joblib\n",
    "import seaborn as sns"
   ]
  },
  {
   "cell_type": "code",
   "execution_count": null,
   "metadata": {
    "id": "w79gyW-ul7GK"
   },
   "outputs": [],
   "source": [
    "# Загрузка данных из CSV файла\n",
    "data = pd.read_csv('loan_approval_dataset.csv')"
   ]
  },
  {
   "cell_type": "code",
   "execution_count": null,
   "metadata": {
    "colab": {
     "base_uri": "https://localhost:8080/",
     "height": 630
    },
    "id": "D4VLjVdZm4CZ",
    "outputId": "44ee3487-8669-47a1-8d8f-6e882ed514ae"
   },
   "outputs": [],
   "source": [
    "# Вывод информации о данных и первых пяти строках для проверки\n",
    "data.info()\n",
    "data.head()"
   ]
  },
  {
   "cell_type": "code",
   "execution_count": null,
   "metadata": {
    "id": "88G_oVbenFZY"
   },
   "outputs": [],
   "source": [
    "# Удаление пробелов и приведение к нижнему регистру для категориальных переменных\n",
    "data['education'] = data['education'].str.strip().str.lower()\n",
    "data['self_employed'] = data['self_employed'].str.strip().str.lower()\n",
    "data['loan_status'] = data['loan_status'].str.strip().str.lower()"
   ]
  },
  {
   "cell_type": "code",
   "execution_count": null,
   "metadata": {
    "id": "FQOWd7LaGu05"
   },
   "outputs": [],
   "source": [
    "# Преобразование категориальных переменных в числовые значения\n",
    "data['education'] = data['education'].map({'graduate': 1, 'not graduate': 0})\n",
    "data['self_employed'] = data['self_employed'].map({'yes': 1, 'no': 0})\n",
    "data['loan_status'] = data['loan_status'].map({'approved': 1, 'rejected': 0})\n",
    "\n",
    "# Выделение признаков (X) и целевой переменной (y)\n",
    "X = data.drop(['loan_id', 'loan_status'], axis=1)\n",
    "y = data['loan_status']\n",
    "\n",
    "# Разделение данных на тренировочные и тестовые наборы\n",
    "X_train, X_test, y_train, y_test = train_test_split(X, y, test_size=0.3, random_state=42)"
   ]
  },
  {
   "cell_type": "code",
   "execution_count": null,
   "metadata": {
    "colab": {
     "base_uri": "https://localhost:8080/",
     "height": 80
    },
    "id": "NQn2JiZEl6Tw",
    "outputId": "cf649cd3-2933-4cb7-e47a-0ca40d8e4a79"
   },
   "outputs": [],
   "source": [
    "# Создание модели градиентного бустинга\n",
    "model = GradientBoostingClassifier(random_state=42)\n",
    "\n",
    "# Обучение модели на тренировочных данных\n",
    "model.fit(X_train, y_train)"
   ]
  },
  {
   "cell_type": "code",
   "execution_count": null,
   "metadata": {
    "colab": {
     "base_uri": "https://localhost:8080/"
    },
    "id": "B2_gAWq4nUlF",
    "outputId": "22dce078-f4db-4a45-fb5d-0ba22942ad17"
   },
   "outputs": [],
   "source": [
    "# Предсказания на тестовых данных\n",
    "y_pred = model.predict(X_test)\n",
    "y_pred_proba = model.predict_proba(X_test)[:, 1]\n",
    "\n",
    "# Вывод отчета о классификации\n",
    "print(\"Classification Report:\")\n",
    "print(classification_report(y_test, y_pred))\n",
    "\n",
    "# Вывод матрицы ошибок\n",
    "print(\"Confusion Matrix:\")\n",
    "print(confusion_matrix(y_test, y_pred))"
   ]
  },
  {
   "cell_type": "code",
   "execution_count": null,
   "metadata": {
    "colab": {
     "base_uri": "https://localhost:8080/",
     "height": 423
    },
    "id": "WvO7r1rWncUF",
    "outputId": "9b5df866-14fd-474a-fac3-033f3641ad13"
   },
   "outputs": [],
   "source": [
    "# Построение ROC-кривой\n",
    "fpr, tpr, _ = roc_curve(y_test, y_pred_proba)\n",
    "roc_auc = auc(fpr, tpr)\n",
    "\n",
    "plt.figure(figsize=(10, 6))\n",
    "plt.plot(fpr, tpr, label=f\"Gradient Boosting (AUC = {roc_auc:.2f})\")\n",
    "plt.plot([0, 1], [0, 1], 'r--')\n",
    "plt.xlabel(\"False Positive Rate\")\n",
    "plt.ylabel(\"True Positive Rate\")\n",
    "plt.title(\"ROC Curve\")\n",
    "plt.legend(loc=\"lower right\")\n",
    "plt.show()"
   ]
  },
  {
   "cell_type": "markdown",
   "metadata": {
    "id": "O2Mt27ggzKav"
   },
   "source": [
    "Что показывает:\n",
    "\n",
    "- ROC-кривая показывает соотношение между True Positive Rate (TPR) и False Positive Rate (FPR) при различных порогах классификации.\n",
    "- AUC (Area Under the Curve) является мерой качества модели: чем ближе AUC к 1, тем лучше модель различает - График помогает понять, насколько хорошо модель различает положительные и отрицательные классы."
   ]
  },
  {
   "cell_type": "code",
   "execution_count": null,
   "metadata": {
    "colab": {
     "base_uri": "https://localhost:8080/",
     "height": 547
    },
    "id": "DvfeEfcWniPj",
    "outputId": "59a41fc6-c830-4d15-fff0-d0412e296094"
   },
   "outputs": [],
   "source": [
    "# Построение графика матрицы ошибок\n",
    "conf_matrix = confusion_matrix(y_test, y_pred)\n",
    "plt.figure(figsize=(8, 6))\n",
    "sns.heatmap(conf_matrix, annot=True, fmt='d', cmap='Blues', xticklabels=['Rejected', 'Approved'], yticklabels=['Rejected', 'Approved'])\n",
    "plt.xlabel('Predicted Label')\n",
    "plt.ylabel('True Label')\n",
    "plt.title('Confusion Matrix')\n",
    "plt.show()"
   ]
  },
  {
   "cell_type": "markdown",
   "metadata": {
    "id": "Q0Dgn-lYzPVL"
   },
   "source": [
    "Что показывает:\n",
    "\n",
    "- Матрица ошибок показывает количество истинных положительных (True Positives, TP), истинных отрицательных (True Negatives, TN), ложных положительных (False Positives, FP) и ложных отрицательных (False Negatives, FN) предсказаний.\n",
    "- График помогает визуализировать, как часто модель правильно и неправильно классифицирует образцы.\n"
   ]
  },
  {
   "cell_type": "code",
   "execution_count": null,
   "metadata": {
    "colab": {
     "base_uri": "https://localhost:8080/",
     "height": 508
    },
    "id": "ULLCWCs-nlEE",
    "outputId": "8869ab10-f4d1-4e2b-f16c-85b234619bad"
   },
   "outputs": [],
   "source": [
    "# Построение Precision-Recall Curve\n",
    "precision, recall, _ = precision_recall_curve(y_test, y_pred_proba)\n",
    "\n",
    "plt.figure(figsize=(8, 6))\n",
    "plt.plot(recall, precision, marker='.')\n",
    "plt.xlabel('Recall')\n",
    "plt.ylabel('Precision')\n",
    "plt.title('Precision-Recall Curve')\n",
    "plt.grid()\n",
    "plt.show()"
   ]
  },
  {
   "cell_type": "markdown",
   "metadata": {
    "id": "pZ45uWDKzU54"
   },
   "source": [
    "Что показывает:\n",
    "\n",
    "- Precision-Recall Curve показывает соотношение между точностью (Precision) и полнотой (Recall) при различных порогах классификации.\n",
    "- График особенно полезен для несбалансированных данных, так как показывает, насколько хорошо модель справляется с положительными классами.\n"
   ]
  },
  {
   "cell_type": "code",
   "execution_count": null,
   "metadata": {
    "colab": {
     "base_uri": "https://localhost:8080/",
     "height": 360
    },
    "id": "7RnH5Akbnn7Y",
    "outputId": "dc9127eb-cc0c-41cc-bbe7-988b844ed236"
   },
   "outputs": [],
   "source": [
    "# Визуализация важности признаков\n",
    "feature_importances = model.feature_importances_\n",
    "features = X.columns\n",
    "\n",
    "plt.figure(figsize=(10, 6))\n",
    "plt.barh(features, feature_importances, color='skyblue')\n",
    "plt.xlabel('Feature Importance')\n",
    "plt.ylabel('Features')\n",
    "plt.title('Feature Importances')\n",
    "plt.gca().invert_yaxis()  # Инвертируем ось, чтобы самый важный был сверху\n",
    "plt.show()"
   ]
  },
  {
   "cell_type": "markdown",
   "metadata": {
    "id": "kl95nAXUzYs6"
   },
   "source": [
    "Что показывает:\n",
    "\n",
    "- График показывает важность каждого признака для модели.\n",
    "- Помогает понять, какие признаки наиболее влияют на предсказания модели.\n"
   ]
  },
  {
   "cell_type": "code",
   "execution_count": null,
   "metadata": {
    "colab": {
     "base_uri": "https://localhost:8080/",
     "height": 504
    },
    "id": "yFYFC8d2npFT",
    "outputId": "1f5ca081-eec7-41a5-93cd-3fa9ec2a5f21"
   },
   "outputs": [],
   "source": [
    "# Построение кривой обучения\n",
    "train_sizes, train_scores, test_scores = learning_curve(model, X, y, cv=5, scoring='accuracy', train_sizes=np.linspace(0.1, 1.0, 10))\n",
    "\n",
    "train_mean = np.mean(train_scores, axis=1)\n",
    "test_mean = np.mean(test_scores, axis=1)\n",
    "\n",
    "plt.figure(figsize=(8, 6))\n",
    "plt.plot(train_sizes, train_mean, label='Training Score', marker='o')\n",
    "plt.plot(train_sizes, test_mean, label='Validation Score', marker='o')\n",
    "plt.xlabel('Training Set Size')\n",
    "plt.ylabel('Accuracy')\n",
    "plt.title('Learning Curve')\n",
    "plt.legend()\n",
    "plt.grid()\n",
    "plt.show()"
   ]
  },
  {
   "cell_type": "markdown",
   "metadata": {
    "id": "HbzDx15Fzczo"
   },
   "source": [
    "Что показывает:\n",
    "\n",
    "- Кривая обучения показывает, как изменяется точность модели на тренировочных и валидационных данных при увеличении размера тренировочного набора.\n",
    "- Помогает понять, насколько хорошо модель обучается и обобщает данные.\n"
   ]
  },
  {
   "cell_type": "code",
   "execution_count": null,
   "metadata": {
    "colab": {
     "base_uri": "https://localhost:8080/",
     "height": 502
    },
    "id": "dl4ybJUznqFK",
    "outputId": "966f298d-6d0d-4cb0-ceca-dc75579f81a8"
   },
   "outputs": [],
   "source": [
    "# Построение кривой валидации для гиперпараметра n_estimators\n",
    "param_range = np.linspace(50, 500, 5, dtype=int)\n",
    "train_scores, test_scores = validation_curve(\n",
    "    GradientBoostingClassifier(random_state=42),\n",
    "    X, y, param_name='n_estimators', param_range=param_range, cv=5, scoring='accuracy'\n",
    ")\n",
    "\n",
    "train_mean = np.mean(train_scores, axis=1)\n",
    "test_mean = np.mean(test_scores, axis=1)\n",
    "\n",
    "plt.figure(figsize=(8, 6))\n",
    "plt.plot(param_range, train_mean, label='Training Score', marker='o')\n",
    "plt.plot(param_range, test_mean, label='Validation Score', marker='o')\n",
    "plt.xlabel('Number of Estimators')\n",
    "plt.ylabel('Accuracy')\n",
    "plt.title('Validation Curve (n_estimators)')\n",
    "plt.legend()\n",
    "plt.grid()\n",
    "plt.show()"
   ]
  },
  {
   "cell_type": "markdown",
   "metadata": {
    "id": "hGnoJt0zzjVt"
   },
   "source": [
    "Что показывает:\n",
    "\n",
    "- Кривая валидации показывает, как изменяется точность модели на тренировочных и валидационных данных при изменении значения гиперпараметра (в данном случае n_estimators).\n",
    "- Помогает понять, как гиперпараметры влияют на производительность модели.\n"
   ]
  },
  {
   "cell_type": "code",
   "execution_count": null,
   "metadata": {
    "colab": {
     "base_uri": "https://localhost:8080/",
     "height": 514
    },
    "id": "uS4oyTUynqCw",
    "outputId": "a0bfbb13-fe0a-4a76-8187-6cf1b1e2d385"
   },
   "outputs": [],
   "source": [
    "# Построение графика накопительных приростов\n",
    "total = len(y_test)\n",
    "positive = sum(y_test)\n",
    "sorted_probas = sorted(zip(y_test, y_pred_proba), key=lambda x: x[1], reverse=True)\n",
    "cumulative_positive = np.cumsum([x[0] for x in sorted_probas])\n",
    "\n",
    "plt.figure(figsize=(8, 6))\n",
    "plt.plot(np.arange(total) / total, cumulative_positive / positive, label='Model', color='blue')\n",
    "plt.plot([0, 1], [0, 1], linestyle='--', label='Random', color='red')\n",
    "plt.xlabel('Percentage of Samples')\n",
    "plt.ylabel('Percentage of Positives')\n",
    "plt.title('Cumulative Gains Chart')\n",
    "plt.legend()\n",
    "plt.grid()\n",
    "plt.show()"
   ]
  },
  {
   "cell_type": "markdown",
   "metadata": {
    "id": "b0L5Fs9yzllO"
   },
   "source": [
    "Что показывает:\n",
    "\n",
    "- График накопительных приростов показывает, какую долю положительных образцов модель находит при увеличении доли образцов, отсортированных по убыванию предсказанных вероятностей.\n",
    "- Помогает понять, насколько хорошо модель различает положительные образцы.\n"
   ]
  },
  {
   "cell_type": "code",
   "execution_count": null,
   "metadata": {
    "colab": {
     "base_uri": "https://localhost:8080/",
     "height": 512
    },
    "id": "bU5ywGkqnqAb",
    "outputId": "2c458460-d2b1-46b7-caee-db2d09889fa5"
   },
   "outputs": [],
   "source": [
    "# Построение гистограммы распределения вероятностей предсказания классов\n",
    "plt.figure(figsize=(8, 6))\n",
    "plt.hist(y_pred_proba[y_test == 1], bins=20, alpha=0.7, label='Approved', color='green')\n",
    "plt.hist(y_pred_proba[y_test == 0], bins=20, alpha=0.7, label='Rejected', color='red')\n",
    "plt.xlabel('Predicted Probability')\n",
    "plt.ylabel('Frequency')\n",
    "plt.title('Distribution of Predicted Probabilities')\n",
    "plt.legend()\n",
    "plt.show()"
   ]
  },
  {
   "cell_type": "markdown",
   "metadata": {
    "id": "MDicewnPzqV8"
   },
   "source": [
    "Что показывает:\n",
    "\n",
    "- Гистограмма распределения вероятностей показывает распределение предсказанных вероятностей для положительных и отрицательных классов.\n",
    "- Помогает понять, как модель распределяет вероятности предсказания для разных классов.\n"
   ]
  },
  {
   "cell_type": "code",
   "execution_count": null,
   "metadata": {
    "colab": {
     "base_uri": "https://localhost:8080/"
    },
    "id": "BW1LHHR5ngdO",
    "outputId": "58f0a49a-a27b-46d8-d584-18d79877590d"
   },
   "outputs": [],
   "source": [
    "# Сохранение обученной модели в файл\n",
    "joblib.dump(model, 'gradient_boosting_model.pkl')"
   ]
  },
  {
   "cell_type": "code",
   "execution_count": null,
   "metadata": {
    "colab": {
     "base_uri": "https://localhost:8080/"
    },
    "id": "-hRygDyyprVJ",
    "outputId": "0230ad00-b9e3-4762-f5b2-20b9dcc35688"
   },
   "outputs": [],
   "source": [
    "# Ввод собственных данных для предсказания\n",
    "custom_data = {\n",
    "    'no_of_dependents': [3],\n",
    "    'education': [1],  # 1 = Graduate, 0 = Not Graduate\n",
    "    'self_employed': [0],  # 1 = Yes, 0 = No\n",
    "    'income_annum': [7000000],\n",
    "    'loan_amount': [20000000],\n",
    "    'loan_term': [15],\n",
    "    'cibil_score': [750],\n",
    "    'residential_assets_value': [5000000],\n",
    "    'commercial_assets_value': [3000000],\n",
    "    'luxury_assets_value': [15000000],\n",
    "    'bank_asset_value': [8000000]\n",
    "}\n",
    "\n",
    "# Преобразование данных в DataFrame\n",
    "custom_data_df = pd.DataFrame(custom_data)\n",
    "\n",
    "# Загрузка ранее сохранённой модели\n",
    "loaded_model = joblib.load('gradient_boosting_model.pkl')\n",
    "\n",
    "# Предсказание для пользовательских данных\n",
    "custom_prediction = loaded_model.predict(custom_data_df)\n",
    "custom_prediction_proba = loaded_model.predict_proba(custom_data_df)\n",
    "\n",
    "# Вывод результатов предсказания\n",
    "status = 'Одобрено' if custom_prediction[0] == 1 else 'Отклонено'\n",
    "print(f\"Результат предсказания для пользовательских данных: {status}\")\n",
    "print(f\"Вероятность: {custom_prediction_proba[0][1]:.2f} для одобрения\")"
   ]
  },
  {
   "cell_type": "code",
   "execution_count": null,
   "metadata": {
    "colab": {
     "base_uri": "https://localhost:8080/"
    },
    "id": "nOjl4h1Xq0-j",
    "outputId": "def0828a-a99f-4263-e8e4-e8b6ce7a867e"
   },
   "outputs": [],
   "source": [
    "# Ввод собственных данных\n",
    "custom_data = {\n",
    "    'no_of_dependents': [5],  # Много иждивенцев\n",
    "    'education': [0],  # Нет высшего образования\n",
    "    'self_employed': [1],  # Самозанятый\n",
    "    'income_annum': [500000],  # Низкий доход\n",
    "    'loan_amount': [10000000],  # Высокая сумма кредита\n",
    "    'loan_term': [20],  # Длительный срок кредита\n",
    "    'cibil_score': [400],  # Низкий кредитный рейтинг\n",
    "    'residential_assets_value': [500000],  # Низкая стоимость жилых активов\n",
    "    'commercial_assets_value': [200000],  # Низкая стоимость коммерческих активов\n",
    "    'luxury_assets_value': [100000],  # Отсутствие предметов роскоши\n",
    "    'bank_asset_value': [100000]  # Маленький вклад в банке\n",
    "}\n",
    "\n",
    "# Преобразование данных в DataFrame\n",
    "custom_data_df = pd.DataFrame(custom_data)\n",
    "\n",
    "# Загрузка ранее сохранённой модели\n",
    "loaded_model = joblib.load('gradient_boosting_model.pkl')\n",
    "\n",
    "# Предсказание\n",
    "custom_prediction = loaded_model.predict(custom_data_df)\n",
    "custom_prediction_proba = loaded_model.predict_proba(custom_data_df)\n",
    "\n",
    "# Результаты\n",
    "status = 'Одобрено' if custom_prediction[0] == 1 else 'Отклонено'\n",
    "print(f\"Результат предсказания для пользовательских данных: {status}\")\n",
    "print(f\"Вероятность: {custom_prediction_proba[0][1]:.2f} для одобрения\")"
   ]
  }
 ],
 "metadata": {
  "colab": {
   "provenance": []
  },
  "kernelspec": {
   "display_name": "Python 3 (ipykernel)",
   "language": "python",
   "name": "python3"
  },
  "language_info": {
   "codemirror_mode": {
    "name": "ipython",
    "version": 3
   },
   "file_extension": ".py",
   "mimetype": "text/x-python",
   "name": "python",
   "nbconvert_exporter": "python",
   "pygments_lexer": "ipython3",
   "version": "3.12.7"
  }
 },
 "nbformat": 4,
 "nbformat_minor": 4
}
